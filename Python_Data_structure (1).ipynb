{
  "nbformat": 4,
  "nbformat_minor": 0,
  "metadata": {
    "colab": {
      "provenance": []
    },
    "kernelspec": {
      "name": "python3",
      "display_name": "Python 3"
    },
    "language_info": {
      "name": "python"
    }
  },
  "cells": [
    {
      "cell_type": "code",
      "source": [
        "# 1 . Write a code to create a string with your name and print it .\n",
        "name = \"Ayush\"\n",
        "print(name)"
      ],
      "metadata": {
        "colab": {
          "base_uri": "https://localhost:8080/"
        },
        "id": "HD_9rJgxsX-8",
        "outputId": "524ec9d7-901a-4046-ec1f-3ef1a73dfb9c"
      },
      "execution_count": null,
      "outputs": [
        {
          "output_type": "stream",
          "name": "stdout",
          "text": [
            "Ayush\n"
          ]
        }
      ]
    },
    {
      "cell_type": "code",
      "source": [
        "# 2. Write a code to find the length of your string . \"Hello would\"\n",
        "text=\"Hello would\"\n",
        "print(len(text))"
      ],
      "metadata": {
        "colab": {
          "base_uri": "https://localhost:8080/"
        },
        "id": "NFppaOmIv2KD",
        "outputId": "97d82e05-8608-49c3-9afc-8c6d21c6d634"
      },
      "execution_count": null,
      "outputs": [
        {
          "output_type": "stream",
          "name": "stdout",
          "text": [
            "11\n"
          ]
        }
      ]
    },
    {
      "cell_type": "code",
      "source": [
        "# 3 . Write a code to slice the first 3 characters from the sting \"Pyhton \" Programming .\n",
        "text=\"Pyhton programming\"\n",
        "print(text[:3])"
      ],
      "metadata": {
        "colab": {
          "base_uri": "https://localhost:8080/"
        },
        "id": "ZYIXLJ7SwaLM",
        "outputId": "9f4d7a08-4a82-49f1-c322-d32c36dcd995"
      },
      "execution_count": null,
      "outputs": [
        {
          "output_type": "stream",
          "name": "stdout",
          "text": [
            "Pyh\n"
          ]
        }
      ]
    },
    {
      "cell_type": "code",
      "source": [
        "# 4 . Write a code to convert the string \"hello\" to uppercase .\n",
        "text= \"hello\"\n",
        "print(text.upper())"
      ],
      "metadata": {
        "colab": {
          "base_uri": "https://localhost:8080/"
        },
        "id": "sllkLEDpw_C2",
        "outputId": "52ecd3bc-9431-4a1d-9908-6b3a19a935ab"
      },
      "execution_count": null,
      "outputs": [
        {
          "output_type": "stream",
          "name": "stdout",
          "text": [
            "HELLO\n"
          ]
        }
      ]
    },
    {
      "cell_type": "code",
      "source": [
        "# 5 . Write a code to replace the word \"apple\"with\"orange\" in the string\"I like apple\n",
        "text=\" I like apple\"\n",
        "print(text.replace(\"apple\",\"orange\"))"
      ],
      "metadata": {
        "colab": {
          "base_uri": "https://localhost:8080/"
        },
        "id": "T5lvaDUwxYht",
        "outputId": "8c653945-8c93-4c1a-d75d-61ed9637aabb"
      },
      "execution_count": null,
      "outputs": [
        {
          "output_type": "stream",
          "name": "stdout",
          "text": [
            " I like orange\n"
          ]
        }
      ]
    },
    {
      "cell_type": "code",
      "source": [
        "# 6 . Write a code  to create a list with numbers 1 to 5 and print it .\n",
        "numbers=[1,2,3,4,5]\n",
        "print(numbers)"
      ],
      "metadata": {
        "colab": {
          "base_uri": "https://localhost:8080/"
        },
        "id": "JLmbmMSWy3Ox",
        "outputId": "3f3f4e05-8cf0-4728-c9f9-3b1a5bfc1ae5"
      },
      "execution_count": null,
      "outputs": [
        {
          "output_type": "stream",
          "name": "stdout",
          "text": [
            "[1, 2, 3, 4, 5]\n"
          ]
        }
      ]
    },
    {
      "cell_type": "code",
      "source": [
        "# 7 .Write a code to append the number 10 to the list [1,2,3,4,5].\n",
        "numbers=[1,2,3,4,5]\n",
        "numbers.append(10)\n",
        "print(numbers)"
      ],
      "metadata": {
        "colab": {
          "base_uri": "https://localhost:8080/"
        },
        "id": "qawNIwESzQ0X",
        "outputId": "d56d4db4-e934-417d-bf0a-015fc1029975"
      },
      "execution_count": null,
      "outputs": [
        {
          "output_type": "stream",
          "name": "stdout",
          "text": [
            "[1, 2, 3, 4, 5, 10]\n"
          ]
        }
      ]
    },
    {
      "cell_type": "code",
      "source": [
        "# 8 . Write a code to remove the number 3 from the list [1,2,3,4,5].\n",
        "numbers=[1,2,3,4,5]\n",
        "numbers.remove(3)\n",
        "print(numbers)"
      ],
      "metadata": {
        "colab": {
          "base_uri": "https://localhost:8080/"
        },
        "id": "ql3QuZlGztrW",
        "outputId": "929bd14c-4741-42f8-8312-7597c0fdc46e"
      },
      "execution_count": null,
      "outputs": [
        {
          "output_type": "stream",
          "name": "stdout",
          "text": [
            "[1, 2, 4, 5]\n"
          ]
        }
      ]
    },
    {
      "cell_type": "code",
      "source": [
        "# 9 . Write a code to access the scond element in the list ['a','b','c','d']\n",
        "letters=['a','b','c','d']\n",
        "print(letters[1])"
      ],
      "metadata": {
        "colab": {
          "base_uri": "https://localhost:8080/"
        },
        "id": "CpBOOdWO0HqK",
        "outputId": "ca970e1d-3661-4b3a-ddcb-c70eae9cb27f"
      },
      "execution_count": null,
      "outputs": [
        {
          "output_type": "stream",
          "name": "stdout",
          "text": [
            "b\n"
          ]
        }
      ]
    },
    {
      "cell_type": "code",
      "source": [
        "# 10 . Write a code to reverse the list [10,20,30,40,50]\n",
        "numbers= [10,20,30,40,50]\n",
        "numbers.reverse()\n",
        "print(numbers)"
      ],
      "metadata": {
        "colab": {
          "base_uri": "https://localhost:8080/"
        },
        "id": "p1VJLe4B00jh",
        "outputId": "972f4a5b-5c78-4fc8-b529-d12d186dd2b6"
      },
      "execution_count": null,
      "outputs": [
        {
          "output_type": "stream",
          "name": "stdout",
          "text": [
            "[50, 40, 30, 20, 10]\n"
          ]
        }
      ]
    },
    {
      "cell_type": "code",
      "source": [
        "# 11 . Create a tuple with the elements 100,200,300 and print it .\n",
        "t=(100,200,300)\n",
        "print(t)"
      ],
      "metadata": {
        "colab": {
          "base_uri": "https://localhost:8080/"
        },
        "id": "U8JTeNlA146i",
        "outputId": "9e3a3548-0c42-4c34-bf04-6372fb738977"
      },
      "execution_count": null,
      "outputs": [
        {
          "output_type": "stream",
          "name": "stdout",
          "text": [
            "(100, 200, 300)\n"
          ]
        }
      ]
    },
    {
      "cell_type": "code",
      "source": [
        "# 12 . Access the secound-to-last element of the tuple.\n",
        "colors=(\"red\",\"green\",\"blue\",\"yellow\")\n",
        "print(colors[-2])"
      ],
      "metadata": {
        "colab": {
          "base_uri": "https://localhost:8080/"
        },
        "id": "bf2M9gJu2dsO",
        "outputId": "fdbac568-8f5c-43d6-9588-2d684f6d8492"
      },
      "execution_count": null,
      "outputs": [
        {
          "output_type": "stream",
          "name": "stdout",
          "text": [
            "blue\n"
          ]
        }
      ]
    },
    {
      "cell_type": "code",
      "source": [
        "# 13 . Find the mimimum number in the tuple .\n",
        "nums=(10,20,5,15)\n",
        "print(min(nums))"
      ],
      "metadata": {
        "colab": {
          "base_uri": "https://localhost:8080/"
        },
        "id": "Z_t2I1aB27EE",
        "outputId": "628d006a-5efc-46ca-8d4e-9f8c55af869e"
      },
      "execution_count": null,
      "outputs": [
        {
          "output_type": "stream",
          "name": "stdout",
          "text": [
            "5\n"
          ]
        }
      ]
    },
    {
      "cell_type": "code",
      "source": [
        "# 14 . Find the index of \"cat\" in the tuple .\n",
        "animals= (\"dog\",\"cat\",\"rabbit\")\n",
        "print(animals.index(\"cat\"))"
      ],
      "metadata": {
        "colab": {
          "base_uri": "https://localhost:8080/"
        },
        "id": "cKXHoSo23Tnu",
        "outputId": "ec880e04-1164-4a2e-93af-a43c75a4d15d"
      },
      "execution_count": null,
      "outputs": [
        {
          "output_type": "stream",
          "name": "stdout",
          "text": [
            "1\n"
          ]
        }
      ]
    },
    {
      "cell_type": "code",
      "source": [
        "# 15 . Create a tuple with fruits and check if \"kiwi\" is in it .\n",
        "fruits=(\"apple\",\"banana\",\"mango\")\n",
        "print(\"kiwi\"in fruits)"
      ],
      "metadata": {
        "colab": {
          "base_uri": "https://localhost:8080/"
        },
        "id": "94DV33oU3wCW",
        "outputId": "354b4e9c-19d5-474d-81c9-09332d493ef8"
      },
      "execution_count": null,
      "outputs": [
        {
          "output_type": "stream",
          "name": "stdout",
          "text": [
            "False\n"
          ]
        }
      ]
    },
    {
      "cell_type": "code",
      "source": [
        "# 16 . Create a set with elements a,b,c and print it .\n",
        "s={1,2,3,4,5}\n",
        "s.clear()\n",
        "print(s)"
      ],
      "metadata": {
        "colab": {
          "base_uri": "https://localhost:8080/"
        },
        "id": "cEgz44Nd4O7S",
        "outputId": "d3da1f85-927c-4c36-c6b7-e9de1e82e139"
      },
      "execution_count": null,
      "outputs": [
        {
          "output_type": "stream",
          "name": "stdout",
          "text": [
            "set()\n"
          ]
        }
      ]
    },
    {
      "cell_type": "code",
      "source": [
        "# 17 . Clear all element from set {1,2,3,4}.\n",
        "s={1,2,3,4}\n",
        "s.remove(4)\n",
        "print(s)"
      ],
      "metadata": {
        "colab": {
          "base_uri": "https://localhost:8080/"
        },
        "id": "-jlQjepS4i1D",
        "outputId": "0af7f287-40a8-42f7-e695-1ee49666c904"
      },
      "execution_count": null,
      "outputs": [
        {
          "output_type": "stream",
          "name": "stdout",
          "text": [
            "{1, 2, 3}\n"
          ]
        }
      ]
    },
    {
      "cell_type": "code",
      "source": [
        "# 17 . Find union of two sets {1,2,3} and {3,4,5}.\n",
        "s1={1,2,3}\n",
        "s2={3,4,5}\n",
        "print(s1.union(s2))"
      ],
      "metadata": {
        "colab": {
          "base_uri": "https://localhost:8080/"
        },
        "id": "cdBekUDF45Z5",
        "outputId": "8254519c-1acc-4571-b44a-40d08bb0cad0"
      },
      "execution_count": null,
      "outputs": [
        {
          "output_type": "stream",
          "name": "stdout",
          "text": [
            "{1, 2, 3, 4, 5}\n"
          ]
        }
      ]
    },
    {
      "cell_type": "code",
      "source": [
        "# 18 . find intersection of two sets {1,2,3} and {2,3,4}.\n",
        "s1={1,2,3}\n",
        "s2={2,3,4}\n",
        "print(s1.intersection(s2))"
      ],
      "metadata": {
        "colab": {
          "base_uri": "https://localhost:8080/"
        },
        "id": "b91NJ3-95kMF",
        "outputId": "e8f90bf4-ba03-46fd-fe4a-dee98fa4a45a"
      },
      "execution_count": null,
      "outputs": [
        {
          "output_type": "stream",
          "name": "stdout",
          "text": [
            "{2, 3}\n"
          ]
        }
      ]
    },
    {
      "cell_type": "code",
      "source": [
        "# 19 . Create a dicitionary with keys name, age, city\n",
        "d={\"name\":\"Ayush\",\"age\":20,\"city\":\"Lucknow\"}\n",
        "print(d)"
      ],
      "metadata": {
        "colab": {
          "base_uri": "https://localhost:8080/"
        },
        "id": "BYKB77WE5zUV",
        "outputId": "898276e0-3d3a-46f8-b5fe-47ca83587292"
      },
      "execution_count": null,
      "outputs": [
        {
          "output_type": "stream",
          "name": "stdout",
          "text": [
            "{'name': 'Ayush', 'age': 20, 'city': 'Lucknow'}\n"
          ]
        }
      ]
    },
    {
      "cell_type": "code",
      "source": [
        "# 20 . Add a new key-value pair country: USA\n",
        "D={\"name\":\"Ayush\",\"age\":20,\"city\":\"Lucknow\"}\n",
        "D[\"country\"]=\"USA\"\n",
        "print(D)\n",
        "#"
      ],
      "metadata": {
        "colab": {
          "base_uri": "https://localhost:8080/"
        },
        "id": "sZtqjOJW6CBl",
        "outputId": "ece28bdb-9882-4600-b003-54a783fbf44e"
      },
      "execution_count": null,
      "outputs": [
        {
          "output_type": "stream",
          "name": "stdout",
          "text": [
            "{'name': 'Ayush', 'age': 20, 'city': 'Lucknow', 'country': 'USA'}\n"
          ]
        }
      ]
    },
    {
      "cell_type": "code",
      "source": [
        "# 21 . Access the value associated with \"name\"\n",
        "d={\"name\":\"Ayush\",\"age\":20,\"city\":\"Lucknow\"}\n",
        "print(d[\"name\"])\n"
      ],
      "metadata": {
        "colab": {
          "base_uri": "https://localhost:8080/"
        },
        "id": "y1J9Lyr16PA2",
        "outputId": "a4f2dff4-7946-4e87-a67d-801d2aac4c86"
      },
      "execution_count": null,
      "outputs": [
        {
          "output_type": "stream",
          "name": "stdout",
          "text": [
            "Ayush\n"
          ]
        }
      ]
    },
    {
      "cell_type": "code",
      "source": [
        "# 22 .Remove the key \"age\"\n",
        "d={\"name\":\"Ayush\",\"age\":20,\"city\":\"Lucknow\"}\n",
        "d.pop(\"age\")\n",
        "print(d)"
      ],
      "metadata": {
        "colab": {
          "base_uri": "https://localhost:8080/"
        },
        "id": "kzQJ9PAx6eKc",
        "outputId": "925e861f-a2fb-4e35-9078-7cd12096cb3f"
      },
      "execution_count": null,
      "outputs": [
        {
          "output_type": "stream",
          "name": "stdout",
          "text": [
            "{'name': 'Ayush', 'city': 'Lucknow'}\n"
          ]
        }
      ]
    },
    {
      "cell_type": "code",
      "source": [
        "# 23 . check if \"city\"exists in dictionary\n",
        "D={\"name\":\"Ayush\",\"age\":20,\"city\":\"Lucknow\"}\n",
        "print(\"city\"in D)"
      ],
      "metadata": {
        "colab": {
          "base_uri": "https://localhost:8080/"
        },
        "id": "xUaD8dHa6kIx",
        "outputId": "5aeef52b-a749-4bd6-b8d7-3c4f601a8ef7"
      },
      "execution_count": null,
      "outputs": [
        {
          "output_type": "stream",
          "name": "stdout",
          "text": [
            "True\n"
          ]
        }
      ]
    },
    {
      "cell_type": "code",
      "source": [
        "# 24 . Create a list , a tuple , and a dictionary, print them\n",
        "my_list=[1,2,3,4,5]\n",
        "my_tuple=(1,2,3,4,5)\n",
        "my_dict={\"name\":\"Ayush\",\"age\":20,\"city\":\"Lucknow\"}\n",
        "print(my_list)\n",
        "print(my_tuple)\n",
        "print(my_dict)"
      ],
      "metadata": {
        "colab": {
          "base_uri": "https://localhost:8080/"
        },
        "id": "Vj0qzADk64gb",
        "outputId": "cd0282b8-6e3d-4a11-b206-ff0f319b44dd"
      },
      "execution_count": null,
      "outputs": [
        {
          "output_type": "stream",
          "name": "stdout",
          "text": [
            "[1, 2, 3, 4, 5]\n",
            "(1, 2, 3, 4, 5)\n",
            "{'name': 'Ayush', 'age': 20, 'city': 'Lucknow'}\n"
          ]
        }
      ]
    },
    {
      "cell_type": "code",
      "source": [
        "# 25 . Create a list of 5 random numbers between 1 and 100 , sort it\n",
        "import random\n",
        "numbers=[random.randint(1,100)for _ in range(5)]\n",
        "numbers.sort()\n",
        "print(numbers)"
      ],
      "metadata": {
        "colab": {
          "base_uri": "https://localhost:8080/"
        },
        "id": "SGlWRhoW7OmG",
        "outputId": "436f6f41-a365-45cc-db88-de29074a614c"
      },
      "execution_count": null,
      "outputs": [
        {
          "output_type": "stream",
          "name": "stdout",
          "text": [
            "[61, 69, 78, 81, 98]\n"
          ]
        }
      ]
    }
  ]
}